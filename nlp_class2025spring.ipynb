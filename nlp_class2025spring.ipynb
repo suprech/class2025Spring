{
  "nbformat": 4,
  "nbformat_minor": 0,
  "metadata": {
    "colab": {
      "provenance": [],
      "authorship_tag": "ABX9TyMSOThMPb3BxX1z/lmQml5b",
      "include_colab_link": true
    },
    "kernelspec": {
      "name": "python3",
      "display_name": "Python 3"
    },
    "language_info": {
      "name": "python"
    }
  },
  "cells": [
    {
      "cell_type": "markdown",
      "metadata": {
        "id": "view-in-github",
        "colab_type": "text"
      },
      "source": [
        "<a href=\"https://colab.research.google.com/github/suprech/class2025Spring/blob/main/nlp_class2025spring.ipynb\" target=\"_parent\"><img src=\"https://colab.research.google.com/assets/colab-badge.svg\" alt=\"Open In Colab\"/></a>"
      ]
    },
    {
      "cell_type": "code",
      "source": [
        "from google.colab import drive\n",
        "#drive.mount('/content/drive')"
      ],
      "metadata": {
        "id": "qINflHj6HMta"
      },
      "execution_count": 84,
      "outputs": []
    },
    {
      "cell_type": "code",
      "source": [
        "!pip install selenium\n",
        "!apt-get update\n",
        "\n",
        "# (최초 1회)\n",
        "# !apt install chromium-chromedriver\n",
        "# !cp /usr/lib/chromium-browser/chromedriver '/content/drive/MyDrive/Colab Notebooks' #\n",
        "# !pip install chromedriver-autoinstaller"
      ],
      "metadata": {
        "colab": {
          "base_uri": "https://localhost:8080/"
        },
        "id": "GT3r9CAiHPTw",
        "outputId": "7393c479-bddf-486f-ba0e-cc5e94e1d4ee"
      },
      "execution_count": 85,
      "outputs": [
        {
          "output_type": "stream",
          "name": "stdout",
          "text": [
            "Requirement already satisfied: selenium in /usr/local/lib/python3.11/dist-packages (4.31.0)\n",
            "Requirement already satisfied: urllib3<3,>=1.26 in /usr/local/lib/python3.11/dist-packages (from urllib3[socks]<3,>=1.26->selenium) (2.3.0)\n",
            "Requirement already satisfied: trio~=0.17 in /usr/local/lib/python3.11/dist-packages (from selenium) (0.30.0)\n",
            "Requirement already satisfied: trio-websocket~=0.9 in /usr/local/lib/python3.11/dist-packages (from selenium) (0.12.2)\n",
            "Requirement already satisfied: certifi>=2021.10.8 in /usr/local/lib/python3.11/dist-packages (from selenium) (2025.1.31)\n",
            "Requirement already satisfied: typing_extensions~=4.9 in /usr/local/lib/python3.11/dist-packages (from selenium) (4.13.2)\n",
            "Requirement already satisfied: websocket-client~=1.8 in /usr/local/lib/python3.11/dist-packages (from selenium) (1.8.0)\n",
            "Requirement already satisfied: attrs>=23.2.0 in /usr/local/lib/python3.11/dist-packages (from trio~=0.17->selenium) (25.3.0)\n",
            "Requirement already satisfied: sortedcontainers in /usr/local/lib/python3.11/dist-packages (from trio~=0.17->selenium) (2.4.0)\n",
            "Requirement already satisfied: idna in /usr/local/lib/python3.11/dist-packages (from trio~=0.17->selenium) (3.10)\n",
            "Requirement already satisfied: outcome in /usr/local/lib/python3.11/dist-packages (from trio~=0.17->selenium) (1.3.0.post0)\n",
            "Requirement already satisfied: sniffio>=1.3.0 in /usr/local/lib/python3.11/dist-packages (from trio~=0.17->selenium) (1.3.1)\n",
            "Requirement already satisfied: wsproto>=0.14 in /usr/local/lib/python3.11/dist-packages (from trio-websocket~=0.9->selenium) (1.2.0)\n",
            "Requirement already satisfied: pysocks!=1.5.7,<2.0,>=1.5.6 in /usr/local/lib/python3.11/dist-packages (from urllib3[socks]<3,>=1.26->selenium) (1.7.1)\n",
            "Requirement already satisfied: h11<1,>=0.9.0 in /usr/local/lib/python3.11/dist-packages (from wsproto>=0.14->trio-websocket~=0.9->selenium) (0.14.0)\n",
            "Hit:1 https://cloud.r-project.org/bin/linux/ubuntu jammy-cran40/ InRelease\n",
            "Hit:2 https://developer.download.nvidia.com/compute/cuda/repos/ubuntu2204/x86_64  InRelease\n",
            "Hit:3 http://security.ubuntu.com/ubuntu jammy-security InRelease\n",
            "Hit:4 http://archive.ubuntu.com/ubuntu jammy InRelease\n",
            "Hit:5 http://archive.ubuntu.com/ubuntu jammy-updates InRelease\n",
            "Hit:6 http://archive.ubuntu.com/ubuntu jammy-backports InRelease\n",
            "Hit:7 https://r2u.stat.illinois.edu/ubuntu jammy InRelease\n",
            "Hit:8 https://ppa.launchpadcontent.net/deadsnakes/ppa/ubuntu jammy InRelease\n",
            "Hit:9 https://ppa.launchpadcontent.net/graphics-drivers/ppa/ubuntu jammy InRelease\n",
            "Hit:10 https://ppa.launchpadcontent.net/ubuntugis/ppa/ubuntu jammy InRelease\n",
            "Reading package lists... Done\n",
            "W: Skipping acquire of configured file 'main/source/Sources' as repository 'https://r2u.stat.illinois.edu/ubuntu jammy InRelease' does not seem to provide it (sources.list entry misspelt?)\n"
          ]
        }
      ]
    },
    {
      "cell_type": "code",
      "execution_count": 86,
      "metadata": {
        "id": "IlPU3leMFbxH"
      },
      "outputs": [],
      "source": [
        "from selenium import webdriver\n",
        "from selenium.webdriver.common.by import By\n",
        "from selenium.webdriver.chrome.options import Options\n",
        "from selenium.webdriver.support.ui import WebDriverWait\n",
        "from selenium.webdriver.support import expected_conditions as EC\n",
        "import re\n",
        "import requests\n",
        "from bs4 import BeautifulSoup\n",
        "\n",
        "# Google Patent 기본 URL(예시 : https://patents.google.com/patent/US20250058223/)\n",
        "base_url = \"https://patents.google.com/patent\"\n",
        "\n",
        "# 추출 대상 특허 공개번호(출원번호)\n",
        "# search_publication_number = \"US20250058223\"\n",
        "# search_publication_number = \"KR101124299B1\"\n",
        "search_publication_number = \"US20220336530A1\"\n",
        "\n",
        "search_url = f\"{base_url}/{search_publication_number}\"\n"
      ]
    },
    {
      "cell_type": "markdown",
      "source": [
        "Beautiful Soup 설정"
      ],
      "metadata": {
        "id": "wvAHhciAFwps"
      }
    },
    {
      "cell_type": "code",
      "source": [
        "# User-Agent 설정\n",
        "headers = {\n",
        "    \"User-Agent\": \"Mozilla/5.0 (Macintosh; Intel Mac OS X 10_15_7) \"\n",
        "    \"AppleWebKit/537.36 (KHTML, like Gecko)\"\n",
        "}\n",
        "\n",
        "# 페이지 요청\n",
        "response = requests.get(search_url, headers=headers)\n",
        "response.encoding = \"utf-8\"\n",
        "\n",
        "# HTML 파싱\n",
        "soup = BeautifulSoup(response.text, \"html.parser\")"
      ],
      "metadata": {
        "id": "XA3xgsdiFeaP"
      },
      "execution_count": 87,
      "outputs": []
    },
    {
      "cell_type": "markdown",
      "source": [
        "Selenium"
      ],
      "metadata": {
        "id": "ySZpSOlJFv8k"
      }
    },
    {
      "cell_type": "code",
      "source": [
        "# selenium 관련\n",
        "# headless 모드 설정\n",
        "chrome_options = Options()\n",
        "chrome_options.add_argument(\"--headless\")\n",
        "chrome_options.add_argument(\"--no-sandbox\")\n",
        "chrome_options.add_argument(\"--disable-dev-shm-usage\")\n",
        "\n",
        "# 크롬드라이버로 원하는 url로 접속 (headless 모드)\n",
        "driver = webdriver.Chrome(options=chrome_options)\n",
        "driver.get(search_url)"
      ],
      "metadata": {
        "id": "u5hQOOGUFejf"
      },
      "execution_count": 88,
      "outputs": []
    },
    {
      "cell_type": "code",
      "source": [
        "# CSS 선택자 - 청구항 개수 관련\n",
        "claim_selector = (\n",
        "    \"#claims > h3 > \"\n",
        "    \"div:nth-child(1) > \"\n",
        "    \"div.flex.style-scope.patent-result > \"\n",
        "    \"span\"\n",
        ")\n",
        "\n",
        "# CSS 선택자 - 도면 개수 관련\n",
        "drawings_selector = \"#thumbnails > h3 > span\"\n",
        "\n",
        "# 청구항 개수 및 도면 개수 추출 - 요소가 나타날 때까지 최대 3초 기다림\n",
        "# wait = WebDriverWait(driver, 3)\n",
        "# claim_count = wait.until(\n",
        "#     EC.presence_of_element_located((By.CSS_SELECTOR, claim_selector))\n",
        "# )\n",
        "\n",
        "claim_count = driver.find_element(By.CSS_SELECTOR, claim_selector)\n",
        "drawing_count = driver.find_element(By.CSS_SELECTOR, drawings_selector)\n",
        "\n",
        "# 청구항 총 개수 추출\n",
        "claim_count_text = claim_count.text\n",
        "claim_count_number = re.search(r'\\d+', claim_count.text).group()\n",
        "print(f\"청구항 개수: {claim_count_number}\")\n",
        "\n",
        "# 도면 총 개수 추출\n",
        "drawing_count_text = drawing_count.text\n",
        "print(f\"도면 개수: {drawing_count_text}\")\n",
        "\n",
        "# 브라우저 종료\n",
        "driver.quit()"
      ],
      "metadata": {
        "colab": {
          "base_uri": "https://localhost:8080/"
        },
        "id": "sTL1PJjLFemg",
        "outputId": "34bee6bb-faa7-44c2-85bc-eb252238e5e0"
      },
      "execution_count": 89,
      "outputs": [
        {
          "output_type": "stream",
          "name": "stdout",
          "text": [
            "청구항 개수: 20\n",
            "도면 개수: 21\n"
          ]
        }
      ]
    },
    {
      "cell_type": "code",
      "source": [
        "# 요약서 추출\n",
        "abstract = soup.find_all(\"div\", class_=\"abstract\")\n",
        "\n",
        "print(abstract[0].text)"
      ],
      "metadata": {
        "colab": {
          "base_uri": "https://localhost:8080/"
        },
        "id": "kCd9yrIDG35U",
        "outputId": "65a4380e-1509-4d0f-9744-238c6fd7ce9b"
      },
      "execution_count": 90,
      "outputs": [
        {
          "output_type": "stream",
          "name": "stdout",
          "text": [
            "A device includes a first plurality of conductive strips have lengthwise directions in a first direction, a selector array overlapping the first plurality of conductive strips, an electrode array overlapping the selector array, a plurality of memory strips over the electrode array, and a second plurality of conductive strips overlapping the plurality of memory strips. The plurality of memory strips and the second plurality of conductive strips have lengthwise directions in a second direction perpendicular to the first direction.\n"
          ]
        }
      ]
    },
    {
      "cell_type": "code",
      "source": [
        "# 청구항 추출\n",
        "# 청구항 제1항 추출\n",
        "claims1 = soup.select_one(\"#CLM-00001 > div\")\n",
        "\n",
        "print(claims1.text)\n",
        "print(claim_count_number)\n",
        "\n",
        "print(f\"{int(claim_count_number):05d}\" )"
      ],
      "metadata": {
        "colab": {
          "base_uri": "https://localhost:8080/"
        },
        "id": "3gPbwswAGg0Y",
        "outputId": "1ecc76a6-d8ac-40c9-90fd-9a62622faa0d"
      },
      "execution_count": 91,
      "outputs": [
        {
          "output_type": "stream",
          "name": "stdout",
          "text": [
            " 1. A device comprising:\n",
            "a first plurality of conductive strips having lengthwise directions parallel to a first direction; a first selector array overlapping the first plurality of conductive strips; a first electrode array overlapping the first selector array; a first plurality of memory strips over the first electrode array; and a second plurality of conductive strips overlapping the first plurality of memory strips, wherein the first plurality of memory strips and the second plurality of conductive strips have lengthwise directions parallel to a second direction perpendicular to the first direction. \n",
            "20\n",
            "00020\n"
          ]
        }
      ]
    },
    {
      "cell_type": "code",
      "source": [
        "claims = []\n",
        "\n",
        "for i in range(1, int(claim_count_number)+1):\n",
        "    formatted = f\"{i:05d}\"\n",
        "    claims.append(soup.select_one(f\"#CLM-{formatted} > div\").text)\n",
        "\n",
        "for claim in claims:\n",
        "    print(claim)"
      ],
      "metadata": {
        "colab": {
          "base_uri": "https://localhost:8080/"
        },
        "id": "X7rp7SXPIQZq",
        "outputId": "b7d55741-1f1f-4c3a-c31d-2da056e1ff12"
      },
      "execution_count": 92,
      "outputs": [
        {
          "output_type": "stream",
          "name": "stdout",
          "text": [
            " 1. A device comprising:\n",
            "a first plurality of conductive strips having lengthwise directions parallel to a first direction; a first selector array overlapping the first plurality of conductive strips; a first electrode array overlapping the first selector array; a first plurality of memory strips over the first electrode array; and a second plurality of conductive strips overlapping the first plurality of memory strips, wherein the first plurality of memory strips and the second plurality of conductive strips have lengthwise directions parallel to a second direction perpendicular to the first direction. \n",
            " 2. The device of claim 1 further comprising a plurality of conductive vias, each overlying and contacting one of the second plurality of conductive strips.\n",
            " 3. The device of claim 1, wherein each of the first plurality of memory strips overlaps all selectors in an entire row of the first selector array.\n",
            " 4. The device of claim 1 further comprising a plurality dielectric strips, wherein the plurality dielectric strips separate electrodes in the first electrode array from each other, and separate selectors in the first selector array from each other.\n",
            " 5. The device of claim 4, wherein top surfaces of the plurality dielectric strips are in contact with bottom surfaces of the first plurality of memory strips.\n",
            " 6. The device of claim 1, wherein the first plurality of memory strips comprise state-storage elements of memories selected from the group consisting of Resistive Random-Access Memories (RRAMs), Conductive Bridging Random Access Memories (CBRAMs), magneto-Resistive Random-Access Memories (MRAMs), and Phase-Change Random Access Memories (PCRAMs).\n",
            " 7. The device of claim 1 further comprising:\n",
            "a second selector array overlapping and contacting the second plurality of conductive strips;\n",
            "a second electrode array overlapping the second selector array;\n",
            "a second plurality of memory strips over the second electrode array; and\n",
            "a third plurality of conductive strips overlapping the second plurality of memory strips, wherein the second plurality of memory strips and the third plurality of conductive strips have lengthwise directions parallel to the first direction.\n",
            "\n",
            " 8. A device comprising:\n",
            "a first array of electrodes; a first plurality of memory strips, each overlapping a column of the first array of electrodes; a first plurality of conductive strips, each overlapping and contacting one of the first plurality of memory strips; a second array of electrodes overlapping the first plurality of conductive strips; a second plurality of memory strips over the second array of electrodes, wherein each of the second plurality of memory strips overlaps a row of the second array of electrodes; and a second plurality of conductive strips, each overlapping one of the second plurality of memory strips. \n",
            " 9. The device of claim 8, wherein each of the first plurality of memory strips is a continuous strip formed of a same material, and the continuous strip crosses over and contacts a plurality of electrodes in the first array of electrodes.\n",
            " 10. The device of claim 8, wherein each of the second plurality of memory strips is a continuous strip formed of a homogeneous material, and the continuous strip crosses over and electrically connect to a plurality of electrodes in the second array of electrodes.\n",
            " 11. The device of claim 8, wherein the first plurality of memory strips comprise state-storage elements of Conductive Bridging Random Access Memories (CBRAMs).\n",
            " 12. The device of claim 8, wherein the first plurality of memory strips comprises state-storage elements of Phase-Change Random Access Memories (PCRAMs).\n",
            " 13. The device of claim 8, wherein the first plurality of memory strips have a first lengthwise direction, and wherein the second plurality of memory strips have a second lengthwise direction perpendicular to the first lengthwise direction.\n",
            " 14. The device of claim 8 further comprising a first selector array between, and electrically connected to, the first plurality of conductive strips and the second array of electrodes.\n",
            " 15. The device of claim 14 further comprising a second selector array underlying and electrically connected to the first array of electrodes.\n",
            " 16. A device comprising:\n",
            "a dielectric layer; an array of electrodes separated from each other by a plurality of portions of the dielectric layer; a plurality of memory strips configured to store states, wherein each of the plurality of memory strips are over and in contact with top surfaces of a plurality of electrodes in the array, and is over and in contact with top surfaces of the plurality of portions of the dielectric layer; and a plurality of conductive strips, each overlapping and contacting one of the plurality of memory strips. \n",
            " 17. The device of claim 16 further comprises a plurality of selectors underlying and electrically coupled to the array of electrodes, wherein each of the plurality of selectors comprises a structure selected from a p-n junction structure, a metal/semiconductor/insulator/semiconductor/metal structure, and a metal/low-bandgap-dielectric/insulator/low-bandgap-dielectric/metal structure.\n",
            " 18. The device of claim 16, wherein the plurality of memory strips comprise state-storage elements of Conductive Bridging Random Access Memories (CBRAMs).\n",
            " 19. The device of claim 16, wherein the plurality of memory strips comprise state-storage elements of phase change material.\n",
            " 20. The device of claim 16, wherein each of the plurality of memory strips is electrically connected to all of electrodes in an entire column of the array of electrodes.\n"
          ]
        }
      ]
    },
    {
      "cell_type": "code",
      "source": [],
      "metadata": {
        "id": "utZC09wjJ6Sz"
      },
      "execution_count": 92,
      "outputs": []
    }
  ]
}